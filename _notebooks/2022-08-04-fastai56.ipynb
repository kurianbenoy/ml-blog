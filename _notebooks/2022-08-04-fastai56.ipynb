{
 "cells": [
  {
   "cell_type": "markdown",
   "id": "788846f2-148f-4883-85f8-93bcd1abbd88",
   "metadata": {},
   "source": [
    "# Practical Deep Learning for Coders Course - Paddy Disease Classification competition\n",
    "\n",
    "> \"This blog-post series captures my weekly notes while I attend the [fastaiv5 course conducted by University of Queensland with fast.ai](https://itee.uq.edu.au/event/2022/practical-deep-learning-coders-uq-fastai).\n",
    "\n",
    "- toc: true\n",
    "- branch: master\n",
    "- badges: true\n",
    "- hide_binder_badge: true\n",
    "- hide_deepnote_badge: true\n",
    "- comments: true\n",
    "- author: Kurian Benoy\n",
    "- categories: [fastai, fastaicourse]                                                         \n",
    "- hide: false\n",
    "- search_exclude: false"
   ]
  },
  {
   "cell_type": "markdown",
   "id": "6fc86557-2085-4f63-85e3-7bfaa8e1c7e6",
   "metadata": {},
   "source": [
    "This competition is still ongoing at the time of writing, yet attending the live-coding sessions and playing with Paddy disease classification competition was really fun for me personally.\n",
    "\n",
    "There are four notebook, and I feel each notebook is excellent.\n",
    "\n",
    "- [Road to Top Part 1](https://www.kaggle.com/code/jhoward/first-steps-road-to-the-top-part-1)\n",
    "- [Road to Top Part 2](https://www.kaggle.com/code/jhoward/small-models-road-to-the-top-part-2)\n",
    "- [Road to Top Part 3](https://www.kaggle.com/code/jhoward/scaling-up-road-to-the-top-part-3)\n",
    "- [Road to Top Part 4](https://www.kaggle.com/code/jhoward/multi-target-road-to-the-top-part-4)\n",
    "\n",
    "At the start of lesson 7, Jeremy said some kind words to Nick and me. I am extremely lucky to learn from such a great teacher. Without these four notebooks and [Jeremy's live-coding sessions](https://www.youtube.com/playlist?list=PLfYUBJiXbdtSLBPJ1GMx-sQWf6iNhb8mM), it wouldn't have been possible.\n",
    "\n",
    "I am not going in detail on this lesson, as I feel the introduction notebooks have covered everything so well."
   ]
  },
  {
   "cell_type": "markdown",
   "id": "d882780b-e617-424b-be8c-b525223e491e",
   "metadata": {},
   "source": []
  }
 ],
 "metadata": {
  "kernelspec": {
   "display_name": "Python 3 (ipykernel)",
   "language": "python",
   "name": "python3"
  },
  "language_info": {
   "codemirror_mode": {
    "name": "ipython",
    "version": 3
   },
   "file_extension": ".py",
   "mimetype": "text/x-python",
   "name": "python",
   "nbconvert_exporter": "python",
   "pygments_lexer": "ipython3",
   "version": "3.9.13"
  },
  "vscode": {
   "interpreter": {
    "hash": "2c158fc4cc62aaf8efdf4e544f2c60f81becbac2749f1463ef4629eb66a90f1a"
   }
  }
 },
 "nbformat": 4,
 "nbformat_minor": 5
}
