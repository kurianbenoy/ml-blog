{
 "cells": [
  {
   "cell_type": "markdown",
   "id": "2cb12867-c97a-4493-8a85-f20b518fa5d5",
   "metadata": {
    "tags": []
   },
   "source": [
    "# Starting an open source project - Malayalam Text Classifier\n",
    "\n",
    "> Kurian has commited to start an open source project for Text classification task in Malayalam which is going to be made open source under [SMC community](https://smc.org.in/). \n",
    "\n",
    "- toc: true\n",
    "- branch: master\n",
    "- badges: true\n",
    "- hide_binder_badge: true\n",
    "- hide_deepnote_badge: true\n",
    "- comments: true\n",
    "- author: Kurian Benoy\n",
    "- categories: [mtcmodels, malayalam, NLP]                                                         \n",
    "- hide: false\n",
    "- search_exclude: false"
   ]
  },
  {
   "cell_type": "markdown",
   "id": "e9c038a7-64b4-42ac-9f3b-28fd7db36730",
   "metadata": {},
   "source": [
    "I have been doing fastai course from 2018. Yet I have been taking it seriously probably, only after I bought the book [Deep Learning for Coders with FastAI & Pytorch](https://kurianbenoy.com/2021-06-10-Fast-group/) almost one year back. This year I had took the fastai v5 course, and I feel it's time to follow an advice which I have heard multiple times.\n",
    "\n",
    "> Important: Jeremy Howard, who is teaching this course and wrote the book prompts you to take what you learned and apply it to something that has meaning for you. (This is something that most of those who’ve found any success with the course [emphasise repeatedly](https://sanyambhutani.com/how-not-to-do-fast-ai--or-any-ml-mooc-/).)\n",
    "\n",
    "## Problem Domain\n",
    "\n",
    "According to [huggingface tasks page Text Classification](https://huggingface.co/tasks/text-classification):\n",
    "\n",
    "> Text Classification is the task of assigning a label or class to a given text. Some use cases are sentiment analysis, natural language inference, and assessing grammatical correctness.\n",
    "\n",
    "Malayalam is a highly inflectional and agglutinative language compared to other languages. The quantitative complexity of Malayalam classification was [explained in this paper](https://kavyamanohar.com/documents/tsd_morph_complexity_ml.pdf). According to NLP experts like Santhosh thottingal, computer still hasn't able to\n",
    "really understand words and it's complexities in NLP.\n",
    "\n",
    "\n",
    "## Why Malayalam Text classification is interesting?\n",
    "\n",
    "I beleive working on Malayalam Text classification is way more difficult, as we are working in a language like Malayalam. I believe here, it's very important to believe in one's tenacity and try out next things in a field where there is very less research happening, and there is no proper ML datasets for researchers to work.\n",
    "\n",
    "> Note: Will is more important than Skill\n",
    "\n",
    "This is why I feel this project can be challenging, and my approach is basically to take the previous work of Vaaku2vec, and see if the latest transformer approaches can do something.\n",
    "\n",
    "Cervantes once wrote that \"the journey is better than the inn\", which means meaning that the process is more valuable than the destination. but I(Wayde Gilliam) rather like to think that the journey is the inn.\n",
    "\n",
    "I have created a few issue, and my next blogpost will be on creating a baseline model on a basic dataset created.\n",
    "I expect the few dataset createion steps\n",
    "\n",
    "SMC I choose, simply because I feel that organization can help in Malayalam and has strong community presence.\n",
    "Even after next 3 years, I believe this project will survive.\n",
    "\n",
    "Thanks to all the help:\n",
    "\n",
    "Alex Strickvl\n",
    "\n",
    "Santhosh Thottingal, Kavya Manohar\n",
    "\n",
    "fanbyprinciple"
   ]
  },
  {
   "cell_type": "code",
   "execution_count": null,
   "id": "ca037299-1a2a-483b-8534-17d8789af008",
   "metadata": {},
   "outputs": [],
   "source": []
  }
 ],
 "metadata": {
  "kernelspec": {
   "display_name": "Python 3 (ipykernel)",
   "language": "python",
   "name": "python3"
  },
  "language_info": {
   "codemirror_mode": {
    "name": "ipython",
    "version": 3
   },
   "file_extension": ".py",
   "mimetype": "text/x-python",
   "name": "python",
   "nbconvert_exporter": "python",
   "pygments_lexer": "ipython3",
   "version": "3.9.10"
  }
 },
 "nbformat": 4,
 "nbformat_minor": 5
}
