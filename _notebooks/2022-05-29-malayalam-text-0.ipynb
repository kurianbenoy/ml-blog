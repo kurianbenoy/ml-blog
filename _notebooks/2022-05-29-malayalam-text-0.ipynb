{
 "cells": [
  {
   "cell_type": "markdown",
   "id": "2cb12867-c97a-4493-8a85-f20b518fa5d5",
   "metadata": {},
   "source": [
    "# Starting an open source project - Malayalam Text Classification\n",
    "\n",
    "- toc: true\n",
    "- branch: master\n",
    "- badges: true\n",
    "- hide_binder_badge: true\n",
    "- hide_deepnote_badge: true\n",
    "- comments: true\n",
    "- author: Kurian Benoy\n",
    "- categories: [fastai, malayalam, NLP]                                                         \n",
    "- hide: false\n",
    "- search_exclude: false"
   ]
  },
  {
   "cell_type": "markdown",
   "id": "e9c038a7-64b4-42ac-9f3b-28fd7db36730",
   "metadata": {},
   "source": [
    "## Why project\n",
    "\n",
    "## What are problems in this domain?\n",
    "\n",
    "## Why under SMC\n",
    "\n",
    "## What motivates you?\n",
    "\n",
    "> Important: Will is more important than Skill\n",
    "\n",
    "> Important: Jeremy Howard, who is teaching the course, then prompts you to take what you learned and apply it to something that has meaning for you. (This is something that most of those who’ve found any success with the course [emphasise repeatedly](https://sanyambhutani.com/how-not-to-do-fast-ai--or-any-ml-mooc-/).)\n",
    "\n",
    "Cervantes once wrote that \"the journey is better than the inn\", which means meaning that the process is more valuable than the destination. but I(Wayde Gilliam) rather like to think that the journey is the inn."
   ]
  },
  {
   "cell_type": "code",
   "execution_count": null,
   "id": "ca037299-1a2a-483b-8534-17d8789af008",
   "metadata": {},
   "outputs": [],
   "source": []
  }
 ],
 "metadata": {
  "kernelspec": {
   "display_name": "Python 3 (ipykernel)",
   "language": "python",
   "name": "python3"
  },
  "language_info": {
   "codemirror_mode": {
    "name": "ipython",
    "version": 3
   },
   "file_extension": ".py",
   "mimetype": "text/x-python",
   "name": "python",
   "nbconvert_exporter": "python",
   "pygments_lexer": "ipython3",
   "version": "3.9.10"
  }
 },
 "nbformat": 4,
 "nbformat_minor": 5
}
