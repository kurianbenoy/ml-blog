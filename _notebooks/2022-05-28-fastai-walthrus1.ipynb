{
 "cells": [
  {
   "cell_type": "markdown",
   "metadata": {},
   "source": [
    "# Introduction to linux Terminal and Installing Python Packages & Libraries for Data Sciene\n",
    "\n",
    "- toc: true\n",
    "- branch: master\n",
    "- badges: true\n",
    "- hide_binder_badge: true\n",
    "- hide_deepnote_badge: true\n",
    "- comments: true\n",
    "- author: Kurian Benoy\n",
    "- categories: [fastaicourse, terminal, python]                                                         \n",
    "- hide: false\n",
    "- search_exclude: false"
   ]
  },
  {
   "cell_type": "markdown",
   "metadata": {},
   "source": [
    "## Introduction\n",
    "\n",
    "[Jeremy](https://forums.fast.ai/u/jeremy) has been conducting these official course walk-thrus which start on May 27, 22 for students of fastaiv5 course. I personally felt some of these things were very useful to me personally, and I may use it again and again. So thought of writing it down.\n",
    "\n",
    "\n",
    "You can install terminal in Windows by downloading [Windows terminal](https://apps.microsoft.com/store/detail/windows-terminal/9N0DX20HK701?hl=en-us&gl=US). In case of linux, just type terminal and you will notice it will come with a terminal. In MacOS, you can just open terminal.\n",
    "\n",
    "## What is a terminal? What is a shell? Why use them?\n",
    "\n",
    "A terminal is a program which can display console window to run program. Yet thing inside is not stricly a terminal. Usually in a terminal there can be multiple shells, which can have different colours, shells etc. In a windows terminal it can start no of shells like PowerShell, Command Prompt, Ubuntu etc. We use both interchangebly which is ok.\n",
    "\n",
    "In Windows, Jeremy recommends to use [WSL](https://docs.microsoft.com/en-us/windows/wsl/install). It's a good idea to change the default shell from `Power shell to Ubuntu` for easy usage. Also learn some shortcuts like:\n",
    "\n",
    "`Ctrl`+`Shift`+`1` - Open shell set for default profile\n",
    "`Ctrl`+`Shift`+`3` - Open shell listed as number 3 in WSL\n",
    "`Alt`+`Enter` - Enter screen in full screen\n",
    "`Alt`+`Shift`+`+` - Open a new vertical pane\n",
    "`Alt`+`Shift`+`-` - Open a new horizontal pane\n",
    "`Ctrl` + `l` - Clear the screen\n",
    "`Ctrl`+`Shift`+`w` - Closing a Pane\n",
    "\n",
    "> Important: Learning Keyboard shortcuts can be immensely valuable.\n",
    "\n",
    "## Installing Python Packages\n",
    "\n",
    "> Important: Never use the python which comes by default with Operating system, always use a differnt python to work on stuff you want. Else it will become really messy.\n",
    "\n",
    "Let's install first the python packages with mamba aka. faster version of conda.Go to the [mambaforge installer](https://github.com/conda-forge/miniforge#mambaforge). Based on your operating system, download the shell script to install with:\n",
    "\n",
    "wget https://github.com/conda-forge/miniforge/releases/latest/download/Mambaforge-Linux-x86_64.sh\n",
    "\n",
    "Then install with:\n",
    "\n",
    "bash Mambaforge-Linux-x86_64.sh\n",
    "\n",
    "After downloading run the command:\n",
    "\n",
    ". ~/.bashrc\n",
    "\n",
    "to refresh the terminal\n",
    "\n",
    "> Note: Jeremy recommends to install popular libraries which are supported in anaconda from mamba. If it's not there in conda, or something which requires editable install use pip then only.\n",
    "\n",
    "## Using fastsetup\n",
    "\n",
    "Goto github.com/fastai/fastsetup, download the repo or wget setup-conda.sh. This is a normal shell script, so just run:\n",
    "\n",
    "`bash setup-conda.sh`\n",
    "\n",
    "On running you need to refresh your terminal again, I used `. ~/.bashrc`, that conda install -yq mamba.\n",
    "\n",
    "## Uninstalling packages\n",
    "\n",
    "- Check if ipython, jupyter installed\n",
    "- If yes, first uninstall install\n",
    "- Then remove mamabaforge folder\n",
    "- Then delete conda package\n",
    "\n",
    "## Running Jupyter\n",
    "\n",
    "mamba install jupyter\n",
    "\n",
    "Run, jupyter lab\n",
    "\n",
    "open in localhost:8888 port"
   ]
  },
  {
   "cell_type": "markdown",
   "metadata": {},
   "source": []
  }
 ],
 "metadata": {
  "kernelspec": {
   "display_name": "Python 3 (ipykernel)",
   "language": "python",
   "name": "python3"
  },
  "language_info": {
   "codemirror_mode": {
    "name": "ipython",
    "version": 3
   },
   "file_extension": ".py",
   "mimetype": "text/x-python",
   "name": "python",
   "nbconvert_exporter": "python",
   "pygments_lexer": "ipython3",
   "version": "3.9.10"
  }
 },
 "nbformat": 4,
 "nbformat_minor": 4
}
