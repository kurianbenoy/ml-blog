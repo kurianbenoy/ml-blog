{
 "cells": [
  {
   "cell_type": "markdown",
   "id": "788846f2-148f-4883-85f8-93bcd1abbd88",
   "metadata": {},
   "source": [
    "# Practical Deep Learning for Coders Course - Tabular Models (Linear Regression & Random Forests)\n",
    "\n",
    "> \"This blog-post series captures my weekly notes while I attend the [fastaiv5 course conducted by University of Queensland with fast.ai](https://itee.uq.edu.au/event/2022/practical-deep-learning-coders-uq-fastai). So off to week 5, where we will get started playing with tabular models.\"\n",
    "\n",
    "- toc: true\n",
    "- branch: master\n",
    "- badges: true\n",
    "- hide_binder_badge: true\n",
    "- hide_deepnote_badge: true\n",
    "- comments: true\n",
    "- author: Kurian Benoy\n",
    "- categories: [fastai, fastaicourse]                                                         \n",
    "- hide: false\n",
    "- search_exclude: false"
   ]
  },
  {
   "cell_type": "markdown",
   "id": "f1094f80",
   "metadata": {},
   "source": [
    "## What is important for an ML practitioner\n",
    "\n",
    "Most of the time as a practitioner, your job is to connect a set of inputs to the sets of outputs you want with machine learning algorithm together in a framework. According to Jeremy what is important is how you tweak on first layer and last layer of neural network. The middle layer is usually not that important.\n",
    "\n",
    "## Remind yourself these concepts\n",
    "\n",
    "Before getting started with this lesson, let's remind ourselves **What is matrix & vector?**\n",
    "\n",
    "![image](https://user-images.githubusercontent.com/24592806/182064940-f5723473-d393-4a16-ab86-a7baf1ed0f8b.png)\n",
    "\n",
    "In this chaper, you may stumble into terms like matrix-vector multiplication, matrix matrix products etc. So it's a good idea to remind yourself\n",
    "with the concept of [matrix multiplication](http://matrixmultiplication.xyz/) and [broadcasting](https://numpy.org/doc/stable/user/basics.broadcasting.html)."
   ]
  },
  {
   "cell_type": "markdown",
   "id": "80ba735a-8d84-4bde-af94-f326d50e7817",
   "metadata": {},
   "source": [
    "In this chapter three notebooks where covered, so it's bit more hectic compared to the previous chapters to be honest. The notebooks covered were:\n",
    "\n",
    "- [Linear Models and Neural net from Scratch](https://www.kaggle.com/code/jhoward/linear-model-and-neural-net-from-scratch)\n",
    "- [Why you should use a framework?](https://www.kaggle.com/code/jhoward/why-you-should-use-a-framework)\n",
    "- [How random forests really work](https://www.kaggle.com/code/jhoward/how-random-forests-really-work/)\n",
    "\n",
    "For the course there was close to one month gap between fifth and sixth lesson, because of exams in University of Queenzland."
   ]
  },
  {
   "cell_type": "markdown",
   "id": "d4ff326c-93be-4d71-b511-dd16d4fc757c",
   "metadata": {},
   "source": [
    "## Linear model & neural network from scratch notebook\n",
    "\n",
    "\n",
    "In this notebook first few sections covers on data cleaning and feature engineering with pandas. A few\n",
    "notes which I jotted down, when I started looking into the lesson at first.\n",
    "\n",
    "- In pandas never delete columns\n",
    "- You can replace missing values using mode of column\n",
    "- We can have multiple modes, so choose the first element as 0\n",
    "- In first baseline model, don't do complicated things at the start.\n",
    "- for categorical variables we can set dummy variables for Pclass with `pd.get_dummies`\n",
    "\n",
    "Then the notebook progresses first into building:\n",
    "\n",
    "1. Linear models\n",
    "2. Neural networks\n",
    "3. Deep Learning\n",
    "\n",
    "> Note: This notebook is a pre-requisite for lesson 7 when we are covering collabrative filtering also."
   ]
  },
  {
   "cell_type": "markdown",
   "id": "ce640447-cd13-468e-a861-54a6c04d6527",
   "metadata": {},
   "source": [
    "## Why you should use a framework?\n",
    "\n",
    "This notebook, does some interesting feature engineering followed by building models with fastai framework. It also shows how to use ensembling with fastai library and to get in the top 25% of accuracy.\n",
    "\n",
    "I have seen this cliche argument that for learning ML, you need to go into details and using frameworks is a step down. Jeremy emphasises always use good frameworks on top of it. Rather than re-inventing from scratch. Lot of the success of fast.ai comes from it not asking practitioners to go into details. One of the reasons I like frameworks like blurr, Icevision is also because of that and it's helping users who are familiar with fastai to easily build complex computer vision and NLP models.\n",
    "\n",
    "During a conversation with Icevision core-developer, [Dickson Neoh](https://dicksonneoh.com/):\n",
    "\n",
    "> In icevision, within 10 minutes I can train an object detection model with any dataset. It may not be most accurate, yet I can iterate so quickly.\n",
    "\n",
    "## How random forests really work?\n",
    "\n",
    "Jeremy was know as the random forest guy before he became know as the Deep learning person. One of the cool things about random forest is it's very hard to get something wrong unlike logistic regression.\n",
    "\n",
    "Random forests are really intereptables, and helps in getting good accuracy. He also covered about gradient boosted trees during this lesson."
   ]
  },
  {
   "cell_type": "markdown",
   "id": "9d78b1c3-1a55-4076-b14e-4ee34f003e1e",
   "metadata": {},
   "source": [
    "## Homework dataset\n",
    "\n",
    "To practise these techniques, I feel a good place to start is by participating in Kaggle [Tabular Playground dataset competition](https://www.kaggle.com/competitions/tabular-playground-series-aug-2022) or [previous tabular competitions in Kaggle](https://www.kaggle.com/competitions?listOption=completed)."
   ]
  },
  {
   "cell_type": "code",
   "execution_count": null,
   "id": "ba9cff65-5cb3-4d66-b346-f87589457b64",
   "metadata": {},
   "outputs": [],
   "source": []
  }
 ],
 "metadata": {
  "kernelspec": {
   "display_name": "Python 3 (ipykernel)",
   "language": "python",
   "name": "python3"
  },
  "language_info": {
   "codemirror_mode": {
    "name": "ipython",
    "version": 3
   },
   "file_extension": ".py",
   "mimetype": "text/x-python",
   "name": "python",
   "nbconvert_exporter": "python",
   "pygments_lexer": "ipython3",
   "version": "3.9.13"
  },
  "vscode": {
   "interpreter": {
    "hash": "2c158fc4cc62aaf8efdf4e544f2c60f81becbac2749f1463ef4629eb66a90f1a"
   }
  }
 },
 "nbformat": 4,
 "nbformat_minor": 5
}
