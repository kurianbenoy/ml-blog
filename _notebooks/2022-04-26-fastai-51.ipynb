{
 "cells": [
  {
   "cell_type": "markdown",
   "metadata": {},
   "source": [
    "# Practical Deep Learning for Coders Course - Lesson 1\n",
    "\n",
    "> \"This blog-post series captures my weekly notes while I attend the [fastaiv5 course conducted by University of Queensland with fast.ai](https://itee.uq.edu.au/event/2022/practical-deep-learning-coders-uq-fastai). So off to week1.\"\n",
    "\n",
    "- toc: true\n",
    "- branch: master\n",
    "- badges: true\n",
    "- hide_binder_badge: true\n",
    "- hide_deepnote_badge: true\n",
    "- comments: true\n",
    "- author: Kurian Benoy\n",
    "- categories: [fastaicourse, fastbook]\n",
    "- hide: false\n",
    "- search_exclude: false"
   ]
  },
  {
   "cell_type": "markdown",
   "metadata": {},
   "source": [
    "First there was a set of introductions by university officials at UQ like VC. One curious thing was everyone of UQ staff were honouring something traditionaly of that land to live in reconciliation.\n",
    "\n",
    "Then lecture of Jeremy starts, seeing his face the chatbox is in delight.\n",
    "\n",
    "Jeremy mentions there are two categories of students who attend the course:\n",
    "\n",
    "1. Students who have enrolled via University of Queensland(with almost 350 people attending in-person and about 100 people remotely as well).\n",
    "2. fastai fellows who have acknowledged for their contribution to community.\n",
    "\n",
    "Jeremy recommends having study buddies when we are learning the course is important. So he asks to create Study groups wherever possible. This course is now happening after a gap of 2 years, so there is a lot of new things which has to be covered as Deep learning moves so fast. \n",
    "\n",
    "\n",
    "Using Dalle-2 technique we can generative creative images from generate twitter bios. For a creative person, this can be very helpful to create good artwork. Then one of another popular techniques was using Pathways language model which is able to answers question with explanations and even explains why some jokes are funny."
   ]
  },
  {
   "cell_type": "code",
   "execution_count": 2,
   "metadata": {
    "execution": {
     "iopub.execute_input": "2022-04-26T18:07:48.450048Z",
     "iopub.status.busy": "2022-04-26T18:07:48.449591Z",
     "iopub.status.idle": "2022-04-26T18:07:57.642412Z",
     "shell.execute_reply": "2022-04-26T18:07:57.641479Z",
     "shell.execute_reply.started": "2022-04-26T18:07:48.450009Z"
    }
   },
   "outputs": [],
   "source": [
    "#hide\n",
    "!pip install fastai timm -Uqq"
   ]
  },
  {
   "cell_type": "markdown",
   "metadata": {},
   "source": [
    "Jeremy talks about his interest in education.He is a homeschooler and learned from books by Paul Lockhart & David Perkins which were inspiration for fast.ai. fastai teaches stuff in top-down manner. You will go into as much technical stuff as you, yet you will learn and implement cool stuff steadily.\n",
    "\n",
    "**About fast.ai course**\n",
    "\n",
    "He wrote an awesome book and this course. His book is one of the best sellers in Deep Learning and used to teach folks in companies like Tesla, OpenAI etc. Almost 6 million people watched his videos so far.Jeremy has won multiple competitions in Kaggle, was the CEO of kaggle. He build Enlitic, a medical company which was build for medical purpose with two other succesful startups.\n",
    "\n",
    "> Jeremy mentioned for this course, we are not using any material directly from Deep Learning For Coders with Fastai & Pytorch book. Yet he recommends to read portions of book after each chapter. \n",
    "\n",
    "Usually multiple people learn better if the same idea is exposed in different way\n",
    "from multiple sources. That's the why behind this approach."
   ]
  },
  {
   "cell_type": "markdown",
   "metadata": {},
   "source": [
    "Jeremy started coding hands-own a bird or park classifier, which was considered as a very difficult problem in 2015. Even a comic depicted this. Yet things have changed so drastically in past few years, that it's very easy to do that now.\n",
    "\n",
    "> Yet let's look, why we couldn't build a bird classifer in 2015:\n",
    "\n",
    "- For classifying histopothical images. They used computer vision techniques.\n",
    "- They got big team of datascientist, mathematicans with lot of features who build relevant feature for machine learning hand by hand.\n",
    "- These project took years\n",
    "- Also deep learning was not in radar for researchers then.\n",
    "\n",
    "> What has now changed?\n",
    "- Using neural network they build these features on their own.\n",
    "- Mathew D Zeiler & Rob Fergus(and actual weights) showed with visualization how neural networks work\n",
    "- Combine all features to learn and go slowly in past, neural networks learned on it's own these techniques."
   ]
  },
  {
   "cell_type": "markdown",
   "metadata": {},
   "source": [
    "If it's a bird or not? notebook can be [found here](https://www.kaggle.com/code/jhoward/is-it-a-bird-creating-a-model-from-your-own-data). I am slightly tweaking this model to leverage pytorch image-models released by timm."
   ]
  },
  {
   "cell_type": "code",
   "execution_count": 3,
   "metadata": {
    "execution": {
     "iopub.execute_input": "2022-04-26T18:16:07.731606Z",
     "iopub.status.busy": "2022-04-26T18:16:07.730981Z",
     "iopub.status.idle": "2022-04-26T18:16:07.784333Z",
     "shell.execute_reply": "2022-04-26T18:16:07.783692Z",
     "shell.execute_reply.started": "2022-04-26T18:16:07.731567Z"
    }
   },
   "outputs": [],
   "source": [
    "# hide\n",
    "from fastcore.all import *\n",
    "import time\n",
    "\n",
    "def search_images(term, max_images=200):\n",
    "    url = 'https://duckduckgo.com/'\n",
    "    res = urlread(url,data={'q':term})\n",
    "    searchObj = re.search(r'vqd=([\\d-]+)\\&', res)\n",
    "    requestUrl = url + 'i.js'\n",
    "    params = dict(l='us-en', o='json', q=term, vqd=searchObj.group(1), f=',,,', p='1', v7exp='a')\n",
    "    urls,data = set(),{'next':1}\n",
    "    while len(urls)<max_images and 'next' in data:\n",
    "        data = urljson(requestUrl,data=params)\n",
    "        urls.update(L(data['results']).itemgot('image'))\n",
    "        requestUrl = url + data['next']\n",
    "        time.sleep(0.2)\n",
    "    return L(urls)[:max_images]"
   ]
  },
  {
   "cell_type": "code",
   "execution_count": 4,
   "metadata": {
    "execution": {
     "iopub.execute_input": "2022-04-26T18:16:10.999504Z",
     "iopub.status.busy": "2022-04-26T18:16:10.999257Z",
     "iopub.status.idle": "2022-04-26T18:16:11.752066Z",
     "shell.execute_reply": "2022-04-26T18:16:11.751145Z",
     "shell.execute_reply.started": "2022-04-26T18:16:10.999476Z"
    }
   },
   "outputs": [],
   "source": [
    "urls = search_images('bird photos', max_images=1)\n",
    "urls[0]"
   ]
  },
  {
   "cell_type": "code",
   "execution_count": 5,
   "metadata": {
    "execution": {
     "iopub.execute_input": "2022-04-26T18:16:21.682492Z",
     "iopub.status.busy": "2022-04-26T18:16:21.682259Z",
     "iopub.status.idle": "2022-04-26T18:16:29.417344Z",
     "shell.execute_reply": "2022-04-26T18:16:29.416565Z",
     "shell.execute_reply.started": "2022-04-26T18:16:21.682466Z"
    }
   },
   "outputs": [],
   "source": [
    "from fastdownload import download_url\n",
    "dest = 'bird.jpg'\n",
    "download_url(urls[0], dest, show_progress=False)\n",
    "\n",
    "from fastai.vision.all import *\n",
    "im = Image.open(dest)\n",
    "im.to_thumb(256,256)"
   ]
  },
  {
   "cell_type": "markdown",
   "metadata": {},
   "source": [
    "**Note:**\n",
    "\n",
    "- Image based algorithms, are not for images. Image for music classification by Deolho, Ethan sutin sounds from image recognizer. You can do music classification, with some creativity using cnns. \n",
    "\n",
    "- Also needing lots of data is a myth created by companies who sell data processng units. There are lot of free resources like Kaggle, Colab etc."
   ]
  },
  {
   "cell_type": "markdown",
   "metadata": {},
   "source": [
    ">Observation by Jeremy: Tensorflow is slowly dying. Check this [article which he cited](https://www.assemblyai.com/blog/pytorch-vs-tensorflow-in-2022/). Yet pytorch has lot of hairy code, which can be solved using good abstractions in fastai.\n",
    "\n",
    "- fastai library tries to provide good and the best fine-tuned models, which work well compared to other libraries. He showed code required for implementing AdamW in pytorch and in fastai.\n",
    "\n",
    "[Tanishq Abraham](https://tmabraham.github.io/) pointed me to implemtation of AdamW to [chapter 16 in fastbook](https://github.com/fastai/fastbook/blob/master/16_accel_sgd.ipynb)."
   ]
  },
  {
   "cell_type": "code",
   "execution_count": 6,
   "metadata": {
    "execution": {
     "iopub.execute_input": "2022-04-26T18:17:00.190847Z",
     "iopub.status.busy": "2022-04-26T18:17:00.190553Z",
     "iopub.status.idle": "2022-04-26T18:18:24.633396Z",
     "shell.execute_reply": "2022-04-26T18:18:24.632506Z",
     "shell.execute_reply.started": "2022-04-26T18:17:00.190811Z"
    }
   },
   "outputs": [],
   "source": [
    "download_url(search_images('forest photos', max_images=1)[0], 'forest.jpg', show_progress=False)\n",
    "Image.open('forest.jpg').to_thumb(256,256)\n",
    "\n",
    "searches = 'forest','bird'\n",
    "path = Path('bird_or_not')\n",
    "\n",
    "for o in searches:\n",
    "    dest = (path/o)\n",
    "    dest.mkdir(exist_ok=True, parents=True)\n",
    "    download_images(dest, urls=search_images(f'{o} photo'))\n",
    "    resize_images(path/o, max_size=400, dest=path/o)"
   ]
  },
  {
   "cell_type": "code",
   "execution_count": 7,
   "metadata": {
    "execution": {
     "iopub.execute_input": "2022-04-26T18:18:24.636177Z",
     "iopub.status.busy": "2022-04-26T18:18:24.635356Z",
     "iopub.status.idle": "2022-04-26T18:18:25.509264Z",
     "shell.execute_reply": "2022-04-26T18:18:25.508513Z",
     "shell.execute_reply.started": "2022-04-26T18:18:24.636135Z"
    }
   },
   "outputs": [],
   "source": [
    "failed = verify_images(get_image_files(path))\n",
    "failed.map(Path.unlink)\n",
    "len(failed)"
   ]
  },
  {
   "cell_type": "markdown",
   "metadata": {},
   "source": [
    "As the code showed, data cleaning is a big part of machine learninng. When we are learning this course as practitioners, we will spend lot of time of building and loading models. Like in compiler course lot of time is not spend on techniques, but on getting the environment up and ready."
   ]
  },
  {
   "cell_type": "code",
   "execution_count": 8,
   "metadata": {
    "execution": {
     "iopub.execute_input": "2022-04-26T18:18:56.966471Z",
     "iopub.status.busy": "2022-04-26T18:18:56.966200Z",
     "iopub.status.idle": "2022-04-26T18:19:02.281502Z",
     "shell.execute_reply": "2022-04-26T18:19:02.280708Z",
     "shell.execute_reply.started": "2022-04-26T18:18:56.966440Z"
    }
   },
   "outputs": [],
   "source": [
    "dls = DataBlock(\n",
    "    blocks=(ImageBlock, CategoryBlock), \n",
    "    get_items=get_image_files, \n",
    "    splitter=RandomSplitter(valid_pct=0.2, seed=42),\n",
    "    get_y=parent_label,\n",
    "    item_tfms=[Resize(224, method='squish')]\n",
    ").dataloaders(path)\n",
    "\n",
    "dls.show_batch()"
   ]
  },
  {
   "cell_type": "markdown",
   "metadata": {},
   "source": [
    "After examining, 100s of project and datascience requirments. fastai came up with this approach of DataBlock, which consists of five things:\n",
    "\n",
    "\n",
    "1. blocks\n",
    "2. get_items\n",
    "3. splitter\n",
    "4. Batch_tfms(optional)\n",
    "5. get_y\n",
    "6. item_tfms\n",
    "\n",
    "Without validation data, it won't allow to train. parent_label, return parent folder. we saved as\n",
    "forests or birds. We need same size. Idea to do quickly, why not publish vision_learners\n",
    "with pets dataset.\n",
    "\n",
    "\n",
    "**Now it's time to train our model**"
   ]
  },
  {
   "cell_type": "code",
   "execution_count": 9,
   "metadata": {
    "execution": {
     "iopub.execute_input": "2022-04-26T18:20:47.879917Z",
     "iopub.status.busy": "2022-04-26T18:20:47.879147Z",
     "iopub.status.idle": "2022-04-26T18:21:20.299499Z",
     "shell.execute_reply": "2022-04-26T18:21:20.298718Z",
     "shell.execute_reply.started": "2022-04-26T18:20:47.879882Z"
    }
   },
   "outputs": [],
   "source": [
    "learn = vision_learner(dls, 'vit_tiny_patch16_224', metrics=error_rate)\n",
    "\n",
    "learn.fine_tune(10)"
   ]
  },
  {
   "cell_type": "markdown",
   "metadata": {},
   "source": [
    "One thing which is cool is that the whole presentation is also made with Jupyter Notebooks using [RiseJS](https://rise.readthedocs.io/en/stable/). Also jupyter notebooks can be used for writing books like [Deep Learning for Coders](https://www.amazon.in/Deep-Learning-Coders-fastai-PyTorch/dp/9385889206/ref=asc_df_9385889206/?tag=googleshopdes-21&linkCode=df0&hvadid=397083287744&hvpos=&hvnetw=g&hvrand=16600915651709325915&hvpone=&hvptwo=&hvqmt=&hvdev=c&hvdvcmdl=&hvlocint=&hvlocphy=1007777&hvtargid=pla-992154494864&psc=1&ext_vrnc=hi), for blogging using [fastpages](https://fastpages.fast.ai/), for CI/CD pipeline to run in parallel execution in [fastai repo](https://github.com/fastai/fastai).\n",
    "\n",
    "Tanishq Mathew Abraham has summarized on what can be done in this twitter threads.\n",
    "\n",
    "> twitter: https://twitter.com/iScienceLuvr/status/1519242326517829632\n",
    "\n",
    "After this Jeremy, showed all the examples in Chapter 1 in Deep Learning for coders. My notes then:\n",
    "\n",
    "We are still scratching the surface. Lot of marketing out there, some of first open source models available. The deep learning when it broke X, y, z in domain. In NLP it breaks lot of stuff\n",
    "\n",
    "What's really go in on : in arthur samuel with graph. The graphs are build with gv2 in jupyter\n",
    "notebook. Deploying models in ML is a bit tricky. But it's just predict and shows results."
   ]
  },
  {
   "cell_type": "markdown",
   "metadata": {},
   "source": [
    "**Conclusion by Jeremy**\n",
    "\n",
    "So after first lesson:\n",
    "\n",
    "a) If you know python, then it's kind of easy for you.\n",
    "b) If don't know python, it's very difficult\n",
    "\n",
    "Regardless of what level you are. Experiment yourself and do something more complex.\n",
    "Go ahead and push yourself a little bit, but not much. Then present your work. Do stuff\n",
    "on things where you are interested.\n"
   ]
  },
  {
   "cell_type": "code",
   "execution_count": null,
   "metadata": {},
   "outputs": [],
   "source": []
  }
 ],
 "metadata": {
  "kernelspec": {
   "display_name": "Python 3 (ipykernel)",
   "language": "python",
   "name": "python3"
  },
  "language_info": {
   "codemirror_mode": {
    "name": "ipython",
    "version": 3
   },
   "file_extension": ".py",
   "mimetype": "text/x-python",
   "name": "python",
   "nbconvert_exporter": "python",
   "pygments_lexer": "ipython3",
   "version": "3.9.10"
  }
 },
 "nbformat": 4,
 "nbformat_minor": 4
}
